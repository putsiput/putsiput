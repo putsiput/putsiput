{
  "nbformat": 4,
  "nbformat_minor": 0,
  "metadata": {
    "colab": {
      "provenance": [],
      "authorship_tag": "ABX9TyMaL9tX/Rm7/D22Pa0SG4B5",
      "include_colab_link": true
    },
    "kernelspec": {
      "name": "python3",
      "display_name": "Python 3"
    },
    "language_info": {
      "name": "python"
    }
  },
  "cells": [
    {
      "cell_type": "markdown",
      "metadata": {
        "id": "view-in-github",
        "colab_type": "text"
      },
      "source": [
        "<a href=\"https://colab.research.google.com/github/putsiput/putsiput/blob/main/workshop_dunia_coding_webprogramming.ipynb\" target=\"_parent\"><img src=\"https://colab.research.google.com/assets/colab-badge.svg\" alt=\"Open In Colab\"/></a>"
      ]
    },
    {
      "cell_type": "code",
      "execution_count": 1,
      "metadata": {
        "colab": {
          "base_uri": "https://localhost:8080/"
        },
        "id": "FcK3QIkIPOht",
        "outputId": "9162d49f-8209-40c5-9051-d1be0eabc10e"
      },
      "outputs": [
        {
          "output_type": "stream",
          "name": "stdout",
          "text": [
            "1\n",
            "<class 'int'>\n"
          ]
        }
      ],
      "source": [
        "number = 1\n",
        "print (number)\n",
        "print (type(number))"
      ]
    },
    {
      "cell_type": "markdown",
      "source": [],
      "metadata": {
        "id": "vplKUwO2Pxlp"
      }
    },
    {
      "cell_type": "code",
      "source": [
        "kata_kata = \"halo fulanah\"\n",
        "print (kata_kata)\n",
        "print (type(kata_kata))\n",
        "\n",
        "print(kata_kata [0])\n",
        "print(kata_kata [1])\n",
        "print(kata_kata [2])\n",
        "print(kata_kata [3])"
      ],
      "metadata": {
        "colab": {
          "base_uri": "https://localhost:8080/"
        },
        "id": "aWhaDhOtPyHZ",
        "outputId": "6825b524-7f14-45c4-9bbb-1478a61280f2"
      },
      "execution_count": 2,
      "outputs": [
        {
          "output_type": "stream",
          "name": "stdout",
          "text": [
            "halo fulanah\n",
            "<class 'str'>\n",
            "h\n",
            "a\n",
            "l\n",
            "o\n"
          ]
        }
      ]
    },
    {
      "cell_type": "code",
      "source": [
        "ini_list = [1, 2, 'halo', 'fulanah']\n",
        "print(ini_list)\n",
        "\n",
        "ini_list[0] = 'satu'\n",
        "print(ini_list)"
      ],
      "metadata": {
        "colab": {
          "base_uri": "https://localhost:8080/"
        },
        "id": "1xNXrQF0QVnL",
        "outputId": "54cf91da-29b9-4396-cda5-99c4a38f1df0"
      },
      "execution_count": 4,
      "outputs": [
        {
          "output_type": "stream",
          "name": "stdout",
          "text": [
            "[1, 2, 'halo', 'fulanah']\n",
            "['satu', 2, 'halo', 'fulanah']\n"
          ]
        }
      ]
    },
    {
      "cell_type": "code",
      "source": [
        "ini_dic = {\n",
        "    1 : 'aku',\n",
        "    2 : 'fulanah',\n",
        "    'hai' : 'fulanah',\n",
        "}"
      ],
      "metadata": {
        "id": "WjL_GvbcR5FK"
      },
      "execution_count": null,
      "outputs": []
    },
    {
      "cell_type": "code",
      "source": [
        "def load_data():\n",
        "  with open('inventory.txt', 'r') as file:\n",
        "    inventory = {}\n",
        "    for line in file:\n",
        "      item, stock = line.strip().split(',')\n",
        "      inventory[item] = int(stock)\n",
        "    return inventory\n",
        "\n",
        "def save_to_inventory(inventory):\n",
        "  with open('inventory.txt', 'w') as file:\n",
        "    for item, stock in inventory.items():\n",
        "      file.write(f\"{item},{stock}\\n\")\n",
        "\n",
        "def add_item(inventory_data):\n",
        "  name_item = input(\"nama item : \")\n",
        "  qty_item = int(input(\"Qty item : \"))\n",
        "\n",
        "  inventory_data[name_item] = qty_item\n",
        "  save_to_inventory = inventory_data\n",
        "\n",
        "  print(\"Barang berhasil ditambahkan\")\n",
        "\n",
        "def view_item():\n",
        "  print(\"ini menu 2\")\n",
        "\n",
        "def update_item():\n",
        "  print(\"ini menu 3\")\n",
        "\n",
        "def delete_items():\n",
        "  print(\"ini menu 4\")\n",
        "\n",
        "def menu():\n",
        "  data_inventory = load_data()\n",
        "  while True:\n",
        "    print(\"=== Aplikasi Inventory ===\")\n",
        "    print(\"1. Tambah Barang\")\n",
        "    print(\"2. Lihat Inventory\")\n",
        "    print(\"3. Update Stock\")\n",
        "    print(\"4. Hapus Data Barang\")\n",
        "    print(\"5. Keluar\")\n",
        "\n",
        "    choice = input(\"pilih menu (1-5):\")\n",
        "\n",
        "    if choice == '1':\n",
        "      add_item(data_inventory)\n",
        "      print(\"menu 1\")\n",
        "    elif choice == '2':\n",
        "      print(\"menu 2\")\n",
        "    elif choice == '3':\n",
        "      print(\"menu 3\")\n",
        "    elif choice == '4':\n",
        "      print(\"menu 4\")\n",
        "    elif choice == '5':\n",
        "      print(\"menu 5\")\n",
        "    else:\n",
        "      print(\"Menu tidak tersedia\")\n",
        "\n",
        "\n",
        "if __name__ == '__main__':\n",
        "  menu()"
      ],
      "metadata": {
        "colab": {
          "base_uri": "https://localhost:8080/"
        },
        "id": "UIxxMCyqTA0o",
        "outputId": "09d0dbb0-1965-429a-e989-1d1c1e5c725e"
      },
      "execution_count": null,
      "outputs": [
        {
          "output_type": "stream",
          "name": "stdout",
          "text": [
            "=== Aplikasi Inventory ===\n",
            "1. Tambah Barang\n",
            "2. Lihat Inventory\n",
            "3. Update Stock\n",
            "4. Hapus Data Barang\n",
            "5. Keluar\n",
            "pilih menu (1-5):1\n",
            "nama item : iPhone\n",
            "Qty item : 5\n",
            "Barang berhasil ditambahkan\n",
            "menu 1\n",
            "=== Aplikasi Inventory ===\n",
            "1. Tambah Barang\n",
            "2. Lihat Inventory\n",
            "3. Update Stock\n",
            "4. Hapus Data Barang\n",
            "5. Keluar\n",
            "pilih menu (1-5):1\n",
            "nama item : a\n",
            "Qty item : 2\n",
            "Barang berhasil ditambahkan\n",
            "menu 1\n",
            "=== Aplikasi Inventory ===\n",
            "1. Tambah Barang\n",
            "2. Lihat Inventory\n",
            "3. Update Stock\n",
            "4. Hapus Data Barang\n",
            "5. Keluar\n"
          ]
        }
      ]
    }
  ]
}